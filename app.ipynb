{
 "cells": [
  {
   "cell_type": "code",
   "execution_count": 1,
   "metadata": {},
   "outputs": [],
   "source": [
    "from flask import Flask\n",
    "from flask_sqlalchemy import SQLAlchemy\n",
    "from sqlalchemy import Column, Integer, String, ForeignKey\n",
    "from sqlalchemy import create_engine\n",
    "from sqlalchemy.ext.declarative import declarative_base\n",
    "from sqlalchemy.orm import relationship, backref\n",
    "from sqlalchemy.orm import sessionmaker\n",
    "from sqlalchemy import Column, Integer, String, Text\n",
    "import feedparser\n",
    "import requests\n",
    "from xml.sax.saxutils import quoteattr\n"
   ]
  },
  {
   "cell_type": "code",
   "execution_count": 2,
   "metadata": {},
   "outputs": [
    {
     "name": "stderr",
     "output_type": "stream",
     "text": [
      "/var/folders/r8/pvwq05bn6j942__l82_tjrkh0000gn/T/ipykernel_25861/4105026024.py:1: MovedIn20Warning: The ``declarative_base()`` function is now available as sqlalchemy.orm.declarative_base(). (deprecated since: 2.0) (Background on SQLAlchemy 2.0 at: https://sqlalche.me/e/b8d9)\n",
      "  Base = declarative_base()\n"
     ]
    }
   ],
   "source": [
    "Base = declarative_base()\n",
    "# Create the SQLAlchemy engine and bind it to the Flask app\n",
    "class Category(Base):\n",
    "    __tablename__ = 'categories'\n",
    "    id = Column(Integer, primary_key=True)\n",
    "    name = Column(String)\n",
    "    description = Column(Text)\n",
    "    videos = relationship(\"Video\", back_populates=\"category\")\n",
    "    \n",
    "class Video(Base):\n",
    "    __tablename__ = 'videos'\n",
    "    id = Column(Integer, primary_key=True)\n",
    "    title = Column(String)\n",
    "    url = Column(String)\n",
    "    thumbnail = Column(String)\n",
    "    tags = Column(String)\n",
    "    embed = Column(String)\n",
    "    category_id = Column(Integer, ForeignKey('categories.id'))\n",
    "    category = relationship(\"Category\", back_populates=\"videos\")"
   ]
  },
  {
   "cell_type": "code",
   "execution_count": 3,
   "metadata": {},
   "outputs": [],
   "source": [
    "engine = create_engine('sqlite:///data.db')\n",
    "Base.metadata.create_all(engine)\n"
   ]
  },
  {
   "cell_type": "code",
   "execution_count": 4,
   "metadata": {},
   "outputs": [],
   "source": [
    "Session = sessionmaker(bind=engine)\n",
    "session = Session()"
   ]
  },
  {
   "cell_type": "markdown",
   "metadata": {},
   "source": []
  },
  {
   "cell_type": "code",
   "execution_count": 6,
   "metadata": {},
   "outputs": [],
   "source": [
    "app = Flask(__name__)"
   ]
  },
  {
   "cell_type": "code",
   "execution_count": 7,
   "metadata": {},
   "outputs": [],
   "source": [
    "@app.route('/')\n",
    "def hello_world():\n",
    "    return 'Hello, World!'"
   ]
  },
  {
   "cell_type": "code",
   "execution_count": 8,
   "metadata": {},
   "outputs": [],
   "source": [
    "@app.route('/category', methods=['POST'])\n",
    "def create_category():\n",
    "    name = request.json['name']\n",
    "    description = request.json['description']\n",
    "    new_category = Category(name=name, description=description)\n",
    "    db.session.add(new_category)\n",
    "    db.session.commit()\n",
    "    return jsonify({'message': 'Category created'}), 201\n",
    "\n",
    "@app.route('/category/<int:category_id>', methods=['PUT'])\n",
    "def update_category(category_id):\n",
    "    category = Category.query.get(category_id)\n",
    "    if not category:\n",
    "        return jsonify({'message': 'Category not found'}), 404\n",
    "    category.name = request.json['name']\n",
    "    category.description = request.json['description']\n",
    "    db.session.commit()\n",
    "    return jsonify({'message': 'Category updated'}), 200\n",
    "\n",
    "@app.route('/category/<int:category_id>', methods=['DELETE'])\n",
    "def delete_category(category_id):\n",
    "    category = Category.query.get(category_id)\n",
    "    if not category:\n",
    "        return jsonify({'message': 'Category not found'}), 404\n",
    "    db.session.delete(category)\n",
    "    db.session.commit()\n",
    "    return jsonify({'message': 'Category deleted'}), 200\n"
   ]
  },
  {
   "cell_type": "code",
   "execution_count": 9,
   "metadata": {},
   "outputs": [
    {
     "ename": "NameError",
     "evalue": "name 'db' is not defined",
     "output_type": "error",
     "traceback": [
      "\u001b[0;31m---------------------------------------------------------------------------\u001b[0m",
      "\u001b[0;31mNameError\u001b[0m                                 Traceback (most recent call last)",
      "Cell \u001b[0;32mIn[9], line 2\u001b[0m\n\u001b[1;32m      1\u001b[0m \u001b[38;5;28;01mif\u001b[39;00m \u001b[38;5;18m__name__\u001b[39m \u001b[38;5;241m==\u001b[39m \u001b[38;5;124m'\u001b[39m\u001b[38;5;124m__main__\u001b[39m\u001b[38;5;124m'\u001b[39m:\n\u001b[0;32m----> 2\u001b[0m     \u001b[43mdb\u001b[49m\u001b[38;5;241m.\u001b[39mcreate_all()\n\u001b[1;32m      3\u001b[0m     app\u001b[38;5;241m.\u001b[39mrun()\n",
      "\u001b[0;31mNameError\u001b[0m: name 'db' is not defined"
     ]
    }
   ],
   "source": [
    "if __name__ == '__main__':\n",
    "    db.create_all()\n",
    "    app.run()"
   ]
  },
  {
   "cell_type": "code",
   "execution_count": null,
   "metadata": {},
   "outputs": [],
   "source": []
  }
 ],
 "metadata": {
  "kernelspec": {
   "display_name": "venv",
   "language": "python",
   "name": "python3"
  },
  "language_info": {
   "codemirror_mode": {
    "name": "ipython",
    "version": 3
   },
   "file_extension": ".py",
   "mimetype": "text/x-python",
   "name": "python",
   "nbconvert_exporter": "python",
   "pygments_lexer": "ipython3",
   "version": "3.10.6"
  }
 },
 "nbformat": 4,
 "nbformat_minor": 2
}
