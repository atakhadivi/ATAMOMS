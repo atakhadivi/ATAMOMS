{
 "cells": [
  {
   "cell_type": "code",
   "execution_count": null,
   "metadata": {},
   "outputs": [],
   "source": [
    "import feedparser\n",
    "import requests\n",
    "from sqlalchemy import create_engine, Column, Integer, String, Text\n",
    "from sqlalchemy.ext.declarative import declarative_base\n",
    "from sqlalchemy.orm import sessionmaker"
   ]
  },
  {
   "cell_type": "code",
   "execution_count": null,
   "metadata": {},
   "outputs": [],
   "source": [
    "Base = declarative_base()\n",
    "# Create the SQLAlchemy engine and bind it to the Flask app\n",
    "class Video(Base):\n",
    "    __tablename__ = 'videos'\n",
    "    id = Column(Integer, primary_key=True)\n",
    "    title = Column(String)\n",
    "    url = Column(String)\n",
    "    thumbnail = Column(String)\n",
    "    tags = Column(String)\n",
    "    embed = Column(String)\n",
    "    def __repr__(self):\n",
    "        return f'<Video {self.title}>'"
   ]
  },
  {
   "cell_type": "code",
   "execution_count": null,
   "metadata": {},
   "outputs": [],
   "source": [
    "engine = create_engine('sqlite:///data.db')\n",
    "Base.metadata.create_all(engine)\n"
   ]
  },
  {
   "cell_type": "code",
   "execution_count": null,
   "metadata": {},
   "outputs": [],
   "source": [
    "Session = sessionmaker(bind=engine)\n",
    "session = Session()"
   ]
  },
  {
   "cell_type": "code",
   "execution_count": null,
   "metadata": {},
   "outputs": [],
   "source": [
    "url = 'http://www.pornhub.com/rss'\n",
    "response = requests.get(url)\n",
    "\n",
    "if response.status_code == 200:\n",
    "    rss_feed = response.text\n",
    "\n",
    "    # Parse the RSS feed\n",
    "    feed = feedparser.parse(rss_feed)\n",
    "    print(feed)\n",
    "    # Filter entries containing the keyword 'mom'\n",
    "    mom_entries = [\n",
    "        entry for entry in feed.entries if 'mom' in entry.title.lower() or 'mom' in entry.tags ]\n",
    "\n",
    "    # Print the number of filtered entries\n",
    "    print(f\"Number of entries containing 'mom': {len(mom_entries)}\")\n",
    "\n",
    "    # Print the titles of the filtered entries\n",
    "    for entry in mom_entries:\n",
    "        print(entry.title)\n",
    "        print(entry.link)\n",
    "        print(entry.thumb)\n",
    "        print(entry.tags[0].term)\n",
    "        print(entry.embed)\n",
    "else:\n",
    "    print(f'Failed to fetch RSS feed. Status code: {response.status_code}')\n"
   ]
  },
  {
   "cell_type": "code",
   "execution_count": null,
   "metadata": {},
   "outputs": [],
   "source": [
    "for entry in mom_entries:\n",
    "    Video_Entry = Video(\n",
    "        title=entry.title,\n",
    "        url=entry.link,\n",
    "        thumbnail=entry.thumb,\n",
    "        tags=entry.tags[0].term,\n",
    "        embed=entry.embed\n",
    "    )\n",
    "    session.add(Video_Entry)\n",
    "\n",
    "# Commit the changes to the database\n",
    "session.commit()"
   ]
  },
  {
   "cell_type": "code",
   "execution_count": null,
   "metadata": {},
   "outputs": [],
   "source": [
    "from flask import Flask, render_template\n",
    "from flask_sqlalchemy import SQLAlchemy\n",
    "\n",
    "app = Flask(__name__)\n",
    "\n",
    "@app.route('/')\n",
    "def index():\n",
    "    videos = Video.query.all()\n",
    "    return render_template('index.html', videos=videos)\n"
   ]
  },
  {
   "cell_type": "code",
   "execution_count": null,
   "metadata": {},
   "outputs": [],
   "source": [
    "if __name__ == '__main__':\n",
    "    app.run()"
   ]
  },
  {
   "cell_type": "code",
   "execution_count": null,
   "metadata": {},
   "outputs": [],
   "source": []
  }
 ],
 "metadata": {
  "kernelspec": {
   "display_name": "venv",
   "language": "python",
   "name": "python3"
  },
  "language_info": {
   "codemirror_mode": {
    "name": "ipython",
    "version": 3
   },
   "file_extension": ".py",
   "mimetype": "text/x-python",
   "name": "python",
   "nbconvert_exporter": "python",
   "pygments_lexer": "ipython3",
   "version": "3.10.6"
  }
 },
 "nbformat": 4,
 "nbformat_minor": 2
}
