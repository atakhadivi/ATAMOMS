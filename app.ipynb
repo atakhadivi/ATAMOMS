{
 "cells": [
  {
   "cell_type": "code",
   "execution_count": 1,
   "metadata": {},
   "outputs": [],
   "source": [
    "from flask import Flask\n",
    "from flask_sqlalchemy import SQLAlchemy\n",
    "from sqlalchemy import Column, Integer, String, ForeignKey\n",
    "from sqlalchemy import create_engine\n",
    "from sqlalchemy.ext.declarative import declarative_base\n",
    "from sqlalchemy.orm import relationship, backref\n",
    "from sqlalchemy.orm import sessionmaker\n",
    "from sqlalchemy import Column, Integer, String, Text\n",
    "import feedparser\n",
    "import requests\n",
    "from xml.sax.saxutils import quoteattr\n"
   ]
  },
  {
   "cell_type": "code",
   "execution_count": 2,
   "metadata": {},
   "outputs": [
    {
     "name": "stderr",
     "output_type": "stream",
     "text": [
      "/var/folders/r8/pvwq05bn6j942__l82_tjrkh0000gn/T/ipykernel_42506/2397935309.py:1: MovedIn20Warning: The ``declarative_base()`` function is now available as sqlalchemy.orm.declarative_base(). (deprecated since: 2.0) (Background on SQLAlchemy 2.0 at: https://sqlalche.me/e/b8d9)\n",
      "  Base = declarative_base()\n"
     ]
    }
   ],
   "source": [
    "Base = declarative_base()\n",
    "# Create the SQLAlchemy engine and bind it to the Flask app\n",
    "class Video(Base):\n",
    "    __tablename__ = 'videos'\n",
    "    id = Column(Integer, primary_key=True)\n",
    "    title = Column(String)\n",
    "    url = Column(String)\n",
    "    thumbnail = Column(String)\n",
    "    tags = Column(String)\n",
    "    embed = Column(String)"
   ]
  },
  {
   "cell_type": "code",
   "execution_count": 3,
   "metadata": {},
   "outputs": [],
   "source": [
    "engine = create_engine('sqlite:///data.db')\n",
    "Base.metadata.create_all(engine)\n"
   ]
  },
  {
   "cell_type": "code",
   "execution_count": 4,
   "metadata": {},
   "outputs": [],
   "source": [
    "Session = sessionmaker(bind=engine)\n",
    "session = Session()"
   ]
  },
  {
   "cell_type": "markdown",
   "metadata": {},
   "source": []
  },
  {
   "cell_type": "code",
   "execution_count": 5,
   "metadata": {},
   "outputs": [],
   "source": [
    "app = Flask(__name__)"
   ]
  },
  {
   "cell_type": "code",
   "execution_count": 6,
   "metadata": {},
   "outputs": [],
   "source": [
    "@app.route('/')\n",
    "def hello_world():\n",
    "    return 'Hello, World!'"
   ]
  },
  {
   "cell_type": "code",
   "execution_count": 7,
   "metadata": {},
   "outputs": [],
   "source": [
    "@app.route('/category', methods=['POST'])\n",
    "def create_category():\n",
    "    name = request.json['name']\n",
    "    description = request.json['description']\n",
    "    new_category = Category(name=name, description=description)\n",
    "    db.session.add(new_category)\n",
    "    db.session.commit()\n",
    "    return jsonify({'message': 'Category created'}), 201\n",
    "\n",
    "@app.route('/category/<int:category_id>', methods=['PUT'])\n",
    "def update_category(category_id):\n",
    "    category = Category.query.get(category_id)\n",
    "    if not category:\n",
    "        return jsonify({'message': 'Category not found'}), 404\n",
    "    category.name = request.json['name']\n",
    "    category.description = request.json['description']\n",
    "    db.session.commit()\n",
    "    return jsonify({'message': 'Category updated'}), 200\n",
    "\n",
    "@app.route('/category/<int:category_id>', methods=['DELETE'])\n",
    "def delete_category(category_id):\n",
    "    category = Category.query.get(category_id)\n",
    "    if not category:\n",
    "        return jsonify({'message': 'Category not found'}), 404\n",
    "    db.session.delete(category)\n",
    "    db.session.commit()\n",
    "    return jsonify({'message': 'Category deleted'}), 200\n"
   ]
  },
  {
   "cell_type": "code",
   "execution_count": 9,
   "metadata": {},
   "outputs": [
    {
     "name": "stdout",
     "output_type": "stream",
     "text": [
      " * Serving Flask app '__main__'\n",
      " * Debug mode: off\n"
     ]
    },
    {
     "name": "stderr",
     "output_type": "stream",
     "text": [
      "\u001b[31m\u001b[1mWARNING: This is a development server. Do not use it in a production deployment. Use a production WSGI server instead.\u001b[0m\n",
      " * Running on http://127.0.0.1:5000\n",
      "\u001b[33mPress CTRL+C to quit\u001b[0m\n"
     ]
    }
   ],
   "source": [
    "if __name__ == '__main__':\n",
    "    app.run()"
   ]
  },
  {
   "cell_type": "code",
   "execution_count": null,
   "metadata": {},
   "outputs": [],
   "source": []
  }
 ],
 "metadata": {
  "kernelspec": {
   "display_name": "venv",
   "language": "python",
   "name": "python3"
  },
  "language_info": {
   "codemirror_mode": {
    "name": "ipython",
    "version": 3
   },
   "file_extension": ".py",
   "mimetype": "text/x-python",
   "name": "python",
   "nbconvert_exporter": "python",
   "pygments_lexer": "ipython3",
   "version": "3.10.6"
  }
 },
 "nbformat": 4,
 "nbformat_minor": 2
}
