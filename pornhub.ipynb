{
 "cells": [
  {
   "cell_type": "code",
   "execution_count": null,
   "metadata": {},
   "outputs": [],
   "source": [
    "url = 'http://www.pornhub.com/rss'\n",
    "response = requests.get(url)\n",
    "\n",
    "if response.status_code == 200:\n",
    "    rss_feed = response.text\n",
    "\n",
    "    # Parse the RSS feed\n",
    "    feed = feedparser.parse(rss_feed)\n",
    "    print(feed)\n",
    "    # Filter entries containing the keyword 'mom'\n",
    "    mom_entries = [\n",
    "        entry for entry in feed.entries if 'mom' in entry.title.lower() or 'mom' in entry.tags ]\n",
    "\n",
    "    # Print the number of filtered entries\n",
    "    print(f\"Number of entries containing 'mom': {len(mom_entries)}\")\n",
    "\n",
    "    # Print the titles of the filtered entries\n",
    "    for entry in mom_entries:\n",
    "        print(entry.title)\n",
    "else:\n",
    "    print(f'Failed to fetch RSS feed. Status code: {response.status_code}')\n"
   ]
  }
 ],
 "metadata": {
  "language_info": {
   "name": "python"
  }
 },
 "nbformat": 4,
 "nbformat_minor": 2
}
